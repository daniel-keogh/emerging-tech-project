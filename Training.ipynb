{
 "cells": [
  {
   "cell_type": "code",
   "execution_count": 1,
   "metadata": {},
   "outputs": [],
   "source": [
    "import tensorflow.keras as kr\n",
    "import numpy as np\n",
    "import pandas as pd\n",
    "import matplotlib.pyplot as plt"
   ]
  },
  {
   "cell_type": "code",
   "execution_count": 2,
   "metadata": {},
   "outputs": [],
   "source": [
    "# Plot style.\n",
    "plt.style.use(\"ggplot\")\n",
    "\n",
    "# Plot size.\n",
    "plt.rcParams['figure.figsize'] = [14, 8]"
   ]
  },
  {
   "cell_type": "code",
   "execution_count": 3,
   "metadata": {},
   "outputs": [
    {
     "data": {
      "text/html": [
       "<div>\n",
       "<style scoped>\n",
       "    .dataframe tbody tr th:only-of-type {\n",
       "        vertical-align: middle;\n",
       "    }\n",
       "\n",
       "    .dataframe tbody tr th {\n",
       "        vertical-align: top;\n",
       "    }\n",
       "\n",
       "    .dataframe thead th {\n",
       "        text-align: right;\n",
       "    }\n",
       "</style>\n",
       "<table border=\"1\" class=\"dataframe\">\n",
       "  <thead>\n",
       "    <tr style=\"text-align: right;\">\n",
       "      <th></th>\n",
       "      <th>speed</th>\n",
       "      <th>power</th>\n",
       "    </tr>\n",
       "  </thead>\n",
       "  <tbody>\n",
       "    <tr>\n",
       "      <th>0</th>\n",
       "      <td>0.000</td>\n",
       "      <td>0.000</td>\n",
       "    </tr>\n",
       "    <tr>\n",
       "      <th>1</th>\n",
       "      <td>0.125</td>\n",
       "      <td>0.000</td>\n",
       "    </tr>\n",
       "    <tr>\n",
       "      <th>2</th>\n",
       "      <td>0.150</td>\n",
       "      <td>0.000</td>\n",
       "    </tr>\n",
       "    <tr>\n",
       "      <th>3</th>\n",
       "      <td>0.225</td>\n",
       "      <td>0.000</td>\n",
       "    </tr>\n",
       "    <tr>\n",
       "      <th>4</th>\n",
       "      <td>0.275</td>\n",
       "      <td>0.000</td>\n",
       "    </tr>\n",
       "    <tr>\n",
       "      <th>5</th>\n",
       "      <td>0.325</td>\n",
       "      <td>4.331</td>\n",
       "    </tr>\n",
       "    <tr>\n",
       "      <th>6</th>\n",
       "      <td>0.400</td>\n",
       "      <td>5.186</td>\n",
       "    </tr>\n",
       "    <tr>\n",
       "      <th>7</th>\n",
       "      <td>0.450</td>\n",
       "      <td>3.826</td>\n",
       "    </tr>\n",
       "    <tr>\n",
       "      <th>8</th>\n",
       "      <td>0.501</td>\n",
       "      <td>1.048</td>\n",
       "    </tr>\n",
       "    <tr>\n",
       "      <th>9</th>\n",
       "      <td>0.526</td>\n",
       "      <td>5.553</td>\n",
       "    </tr>\n",
       "  </tbody>\n",
       "</table>\n",
       "</div>"
      ],
      "text/plain": [
       "   speed  power\n",
       "0  0.000  0.000\n",
       "1  0.125  0.000\n",
       "2  0.150  0.000\n",
       "3  0.225  0.000\n",
       "4  0.275  0.000\n",
       "5  0.325  4.331\n",
       "6  0.400  5.186\n",
       "7  0.450  3.826\n",
       "8  0.501  1.048\n",
       "9  0.526  5.553"
      ]
     },
     "execution_count": 3,
     "metadata": {},
     "output_type": "execute_result"
    }
   ],
   "source": [
    "# Read in the dataset\n",
    "df = pd.read_csv(\"./powerproduction.csv\")\n",
    "df.head(10)"
   ]
  },
  {
   "cell_type": "code",
   "execution_count": 4,
   "metadata": {},
   "outputs": [
    {
     "data": {
      "text/plain": [
       "(      speed    power\n",
       " 90    4.905    7.060\n",
       " 254  12.713   51.149\n",
       " 283  14.489   71.763\n",
       " 445  22.422   99.357\n",
       " 461  23.273  113.556,\n",
       "     speed  power\n",
       " 9   0.526  5.553\n",
       " 25  1.051  2.085\n",
       " 28  1.151  1.208\n",
       " 31  1.301  0.000\n",
       " 32  1.401  4.156)"
      ]
     },
     "execution_count": 4,
     "metadata": {},
     "output_type": "execute_result"
    }
   ],
   "source": [
    "train = df.sample(frac=0.8, random_state=0)\n",
    "test = df.drop(train.index)\n",
    "\n",
    "train.head(), test.head()"
   ]
  },
  {
   "cell_type": "code",
   "execution_count": 5,
   "metadata": {},
   "outputs": [],
   "source": [
    "# Create a neural network with one neuron.\n",
    "model = kr.models.Sequential()\n",
    "model.add(kr.layers.Dense(1, input_shape=(1,), activation=\"linear\", kernel_initializer='ones', bias_initializer='zeros'))\n",
    "model.compile('adam', loss='mean_squared_error')"
   ]
  },
  {
   "cell_type": "code",
   "execution_count": 6,
   "metadata": {},
   "outputs": [
    {
     "name": "stdout",
     "output_type": "stream",
     "text": [
      "Epoch 1/100\n",
      "40/40 [==============================] - 0s 507us/step - loss: 2468.5747\n",
      "Epoch 2/100\n",
      "40/40 [==============================] - 0s 496us/step - loss: 2417.5730\n",
      "Epoch 3/100\n",
      "40/40 [==============================] - 0s 496us/step - loss: 2368.4641\n",
      "Epoch 4/100\n",
      "40/40 [==============================] - 0s 581us/step - loss: 2320.8618\n",
      "Epoch 5/100\n",
      "40/40 [==============================] - 0s 491us/step - loss: 2273.1182\n",
      "Epoch 6/100\n",
      "40/40 [==============================] - 0s 503us/step - loss: 2227.6768\n",
      "Epoch 7/100\n",
      "40/40 [==============================] - 0s 508us/step - loss: 2182.3010\n",
      "Epoch 8/100\n",
      "40/40 [==============================] - 0s 746us/step - loss: 2138.1951\n",
      "Epoch 9/100\n",
      "40/40 [==============================] - 0s 553us/step - loss: 2094.2327\n",
      "Epoch 10/100\n",
      "40/40 [==============================] - 0s 490us/step - loss: 2051.9268\n",
      "Epoch 11/100\n",
      "40/40 [==============================] - 0s 502us/step - loss: 2010.4291\n",
      "Epoch 12/100\n",
      "40/40 [==============================] - 0s 503us/step - loss: 1969.6600\n",
      "Epoch 13/100\n",
      "40/40 [==============================] - 0s 503us/step - loss: 1930.1300\n",
      "Epoch 14/100\n",
      "40/40 [==============================] - 0s 490us/step - loss: 1890.8278\n",
      "Epoch 15/100\n",
      "40/40 [==============================] - 0s 502us/step - loss: 1852.6542\n",
      "Epoch 16/100\n",
      "40/40 [==============================] - 0s 502us/step - loss: 1815.4572\n",
      "Epoch 17/100\n",
      "40/40 [==============================] - 0s 502us/step - loss: 1778.8086\n",
      "Epoch 18/100\n",
      "40/40 [==============================] - 0s 427us/step - loss: 1742.8176\n",
      "Epoch 19/100\n",
      "40/40 [==============================] - 0s 503us/step - loss: 1707.8726\n",
      "Epoch 20/100\n",
      "40/40 [==============================] - 0s 502us/step - loss: 1673.7969\n",
      "Epoch 21/100\n",
      "40/40 [==============================] - 0s 502us/step - loss: 1640.2664\n",
      "Epoch 22/100\n",
      "40/40 [==============================] - 0s 504us/step - loss: 1607.2878\n",
      "Epoch 23/100\n",
      "40/40 [==============================] - 0s 490us/step - loss: 1575.4108\n",
      "Epoch 24/100\n",
      "40/40 [==============================] - 0s 502us/step - loss: 1543.6244\n",
      "Epoch 25/100\n",
      "40/40 [==============================] - 0s 502us/step - loss: 1513.2616\n",
      "Epoch 26/100\n",
      "40/40 [==============================] - 0s 502us/step - loss: 1483.0747\n",
      "Epoch 27/100\n",
      "40/40 [==============================] - 0s 365us/step - loss: 1453.7802\n",
      "Epoch 28/100\n",
      "40/40 [==============================] - 0s 502us/step - loss: 1424.9778\n",
      "Epoch 29/100\n",
      "40/40 [==============================] - 0s 503us/step - loss: 1397.3422\n",
      "Epoch 30/100\n",
      "40/40 [==============================] - 0s 503us/step - loss: 1369.4337\n",
      "Epoch 31/100\n",
      "40/40 [==============================] - 0s 457us/step - loss: 1342.8599\n",
      "Epoch 32/100\n",
      "40/40 [==============================] - 0s 503us/step - loss: 1317.3571\n",
      "Epoch 33/100\n",
      "40/40 [==============================] - 0s 502us/step - loss: 1291.4457\n",
      "Epoch 34/100\n",
      "40/40 [==============================] - 0s 489us/step - loss: 1266.8177\n",
      "Epoch 35/100\n",
      "40/40 [==============================] - 0s 376us/step - loss: 1242.5529\n",
      "Epoch 36/100\n",
      "40/40 [==============================] - 0s 377us/step - loss: 1218.7146\n",
      "Epoch 37/100\n",
      "40/40 [==============================] - 0s 377us/step - loss: 1195.9935\n",
      "Epoch 38/100\n",
      "40/40 [==============================] - 0s 376us/step - loss: 1173.2898\n",
      "Epoch 39/100\n",
      "40/40 [==============================] - 0s 377us/step - loss: 1151.2284\n",
      "Epoch 40/100\n",
      "40/40 [==============================] - 0s 502us/step - loss: 1130.0461\n",
      "Epoch 41/100\n",
      "40/40 [==============================] - 0s 619us/step - loss: 1109.2144\n",
      "Epoch 42/100\n",
      "40/40 [==============================] - 0s 377us/step - loss: 1088.9379\n",
      "Epoch 43/100\n",
      "40/40 [==============================] - 0s 376us/step - loss: 1069.0276\n",
      "Epoch 44/100\n",
      "40/40 [==============================] - 0s 376us/step - loss: 1049.7410\n",
      "Epoch 45/100\n",
      "40/40 [==============================] - 0s 489us/step - loss: 1031.2792\n",
      "Epoch 46/100\n",
      "40/40 [==============================] - 0s 377us/step - loss: 1012.8719\n",
      "Epoch 47/100\n",
      "40/40 [==============================] - 0s 504us/step - loss: 995.1044\n",
      "Epoch 48/100\n",
      "40/40 [==============================] - 0s 502us/step - loss: 978.3380\n",
      "Epoch 49/100\n",
      "40/40 [==============================] - 0s 377us/step - loss: 961.0134\n",
      "Epoch 50/100\n",
      "40/40 [==============================] - 0s 503us/step - loss: 944.8666\n",
      "Epoch 51/100\n",
      "40/40 [==============================] - 0s 414us/step - loss: 929.1954\n",
      "Epoch 52/100\n",
      "40/40 [==============================] - 0s 376us/step - loss: 913.7163\n",
      "Epoch 53/100\n",
      "40/40 [==============================] - 0s 376us/step - loss: 898.9738\n",
      "Epoch 54/100\n",
      "40/40 [==============================] - 0s 617us/step - loss: 884.2277\n",
      "Epoch 55/100\n",
      "40/40 [==============================] - 0s 1ms/step - loss: 870.5338\n",
      "Epoch 56/100\n",
      "40/40 [==============================] - 0s 997us/step - loss: 856.5239\n",
      "Epoch 57/100\n",
      "40/40 [==============================] - 0s 871us/step - loss: 843.4750\n",
      "Epoch 58/100\n",
      "40/40 [==============================] - 0s 632us/step - loss: 830.7162\n",
      "Epoch 59/100\n",
      "40/40 [==============================] - 0s 376us/step - loss: 818.3211\n",
      "Epoch 60/100\n",
      "40/40 [==============================] - 0s 364us/step - loss: 806.1450\n",
      "Epoch 61/100\n",
      "40/40 [==============================] - 0s 377us/step - loss: 794.6255\n",
      "Epoch 62/100\n",
      "40/40 [==============================] - 0s 502us/step - loss: 783.3843\n",
      "Epoch 63/100\n",
      "40/40 [==============================] - 0s 502us/step - loss: 772.5460\n",
      "Epoch 64/100\n",
      "40/40 [==============================] - 0s 376us/step - loss: 761.9981\n",
      "Epoch 65/100\n",
      "40/40 [==============================] - 0s 502us/step - loss: 751.9051\n",
      "Epoch 66/100\n",
      "40/40 [==============================] - 0s 615us/step - loss: 741.9666\n",
      "Epoch 67/100\n",
      "40/40 [==============================] - 0s 502us/step - loss: 732.5396\n",
      "Epoch 68/100\n",
      "40/40 [==============================] - 0s 376us/step - loss: 723.6669\n",
      "Epoch 69/100\n",
      "40/40 [==============================] - 0s 502us/step - loss: 714.6664\n",
      "Epoch 70/100\n",
      "40/40 [==============================] - 0s 502us/step - loss: 706.0857\n",
      "Epoch 71/100\n",
      "40/40 [==============================] - 0s 503us/step - loss: 698.0842\n",
      "Epoch 72/100\n",
      "40/40 [==============================] - 0s 490us/step - loss: 690.0695\n",
      "Epoch 73/100\n",
      "40/40 [==============================] - 0s 502us/step - loss: 682.4752\n",
      "Epoch 74/100\n",
      "40/40 [==============================] - 0s 502us/step - loss: 675.1722\n",
      "Epoch 75/100\n",
      "40/40 [==============================] - 0s 723us/step - loss: 668.2364\n",
      "Epoch 76/100\n",
      "40/40 [==============================] - 0s 909us/step - loss: 661.2878\n",
      "Epoch 77/100\n",
      "40/40 [==============================] - 0s 618us/step - loss: 654.9728\n",
      "Epoch 78/100\n",
      "40/40 [==============================] - 0s 630us/step - loss: 648.6049\n",
      "Epoch 79/100\n",
      "40/40 [==============================] - 0s 514us/step - loss: 642.7158\n",
      "Epoch 80/100\n",
      "40/40 [==============================] - 0s 502us/step - loss: 636.9202\n",
      "Epoch 81/100\n",
      "40/40 [==============================] - 0s 502us/step - loss: 631.6143\n",
      "Epoch 82/100\n",
      "40/40 [==============================] - 0s 376us/step - loss: 626.3198\n",
      "Epoch 83/100\n",
      "40/40 [==============================] - 0s 377us/step - loss: 621.1705\n",
      "Epoch 84/100\n",
      "40/40 [==============================] - 0s 402us/step - loss: 616.4044\n",
      "Epoch 85/100\n",
      "40/40 [==============================] - 0s 365us/step - loss: 611.7859\n",
      "Epoch 86/100\n",
      "40/40 [==============================] - 0s 502us/step - loss: 607.4295\n",
      "Epoch 87/100\n",
      "40/40 [==============================] - 0s 502us/step - loss: 603.1924\n",
      "Epoch 88/100\n",
      "40/40 [==============================] - 0s 502us/step - loss: 599.1967\n",
      "Epoch 89/100\n",
      "40/40 [==============================] - 0s 502us/step - loss: 595.4606\n",
      "Epoch 90/100\n",
      "40/40 [==============================] - 0s 502us/step - loss: 591.6655\n",
      "Epoch 91/100\n",
      "40/40 [==============================] - 0s 615us/step - loss: 588.4114\n",
      "Epoch 92/100\n",
      "40/40 [==============================] - 0s 503us/step - loss: 584.9301\n",
      "Epoch 93/100\n",
      "40/40 [==============================] - 0s 503us/step - loss: 581.8301\n",
      "Epoch 94/100\n",
      "40/40 [==============================] - 0s 502us/step - loss: 578.9133\n",
      "Epoch 95/100\n",
      "40/40 [==============================] - 0s 502us/step - loss: 576.1461\n",
      "Epoch 96/100\n",
      "40/40 [==============================] - 0s 489us/step - loss: 573.3101\n"
     ]
    },
    {
     "name": "stdout",
     "output_type": "stream",
     "text": [
      "Epoch 97/100\n",
      "40/40 [==============================] - 0s 502us/step - loss: 570.8237\n",
      "Epoch 98/100\n",
      "40/40 [==============================] - 0s 2ms/step - loss: 568.3982\n",
      "Epoch 99/100\n",
      "40/40 [==============================] - 0s 1ms/step - loss: 566.1476\n",
      "Epoch 100/100\n",
      "40/40 [==============================] - 0s 2ms/step - loss: 563.9706\n"
     ]
    },
    {
     "data": {
      "text/plain": [
       "<tensorflow.python.keras.callbacks.History at 0x21f87f55460>"
      ]
     },
     "execution_count": 6,
     "metadata": {},
     "output_type": "execute_result"
    }
   ],
   "source": [
    "# Train the neural network on our training data.\n",
    "model.fit(train.speed, train.power, epochs=100, batch_size=10)"
   ]
  },
  {
   "cell_type": "code",
   "execution_count": 7,
   "metadata": {},
   "outputs": [
    {
     "data": {
      "text/plain": [
       "array([[  5.8395996],\n",
       "       [  9.413436 ],\n",
       "       [ 12.987272 ],\n",
       "       [359.64938  ]], dtype=float32)"
      ]
     },
     "execution_count": 7,
     "metadata": {},
     "output_type": "execute_result"
    }
   ],
   "source": [
    "# Take four hand-picked values and see their predictions.\n",
    "model.predict([1.0, 2.0, 3.0, 100.0])"
   ]
  },
  {
   "cell_type": "code",
   "execution_count": 8,
   "metadata": {},
   "outputs": [
    {
     "data": {
      "image/png": "[encoded data removed]",
      "text/plain": [
       "<Figure size 1008x576 with 1 Axes>"
      ]
     },
     "metadata": {},
     "output_type": "display_data"
    }
   ],
   "source": [
    "# Let's plot our predictions of the x values we trained on\n",
    "plt.plot(train.speed, train.power, 'o', label='actual')\n",
    "plt.plot(test.speed, model.predict(test.speed), label='prediction')\n",
    "plt.legend();"
   ]
  },
  {
   "cell_type": "code",
   "execution_count": 9,
   "metadata": {},
   "outputs": [],
   "source": [
    "# Save the model\n",
    "model.save('power_prod.h5')"
   ]
  }
 ],
 "metadata": {
  "kernelspec": {
   "display_name": "Python 3",
   "language": "python",
   "name": "python3"
  },
  "language_info": {
   "codemirror_mode": {
    "name": "ipython",
    "version": 3
   },
   "file_extension": ".py",
   "mimetype": "text/x-python",
   "name": "python",
   "nbconvert_exporter": "python",
   "pygments_lexer": "ipython3",
   "version": "3.8.3"
  }
 },
 "nbformat": 4,
 "nbformat_minor": 4
}
