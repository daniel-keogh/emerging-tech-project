{
 "cells": [
  {
   "cell_type": "markdown",
   "metadata": {},
   "source": [
    "# Emerging Technologies Project"
   ]
  },
  {
   "cell_type": "markdown",
   "metadata": {},
   "source": [
    "The following notebook trains a model that can be used to predict power output from wind speed values, as defined in the `powerproduction` dataset."
   ]
  },
  {
   "cell_type": "markdown",
   "metadata": {},
   "source": [
    "## Preamble"
   ]
  },
  {
   "cell_type": "markdown",
   "metadata": {},
   "source": [
    "I'll begin by importing the necessary packages and reading in the dataset."
   ]
  },
  {
   "cell_type": "code",
   "execution_count": null,
   "metadata": {},
   "outputs": [],
   "source": [
    "import tensorflow.keras as kr\n",
    "import numpy as np\n",
    "import pandas as pd\n",
    "import matplotlib.pyplot as plt"
   ]
  },
  {
   "cell_type": "code",
   "execution_count": null,
   "metadata": {},
   "outputs": [],
   "source": [
    "# Plot style\n",
    "plt.style.use(\"ggplot\")\n",
    "\n",
    "# Plot size\n",
    "plt.rcParams[\"figure.figsize\"] = [14, 8]"
   ]
  },
  {
   "cell_type": "code",
   "execution_count": null,
   "metadata": {
    "scrolled": false
   },
   "outputs": [],
   "source": [
    "# Read in the dataset\n",
    "df = pd.read_csv(\"./powerproduction.csv\")\n",
    "\n",
    "# Print the first few rows\n",
    "df.head(8)"
   ]
  },
  {
   "cell_type": "markdown",
   "metadata": {},
   "source": [
    "Next I'll partition the dataset it into two subsets. The first will be used to fit the model and is referred to as the training dataset, while the second will instead be used to make predictions based on the training data. The objective of splitting the data is to provide a way to estimate the performance of the machine learning model when it is presented with new data, i.e. data that wasn't used to train the model [1].\n",
    "\n",
    "The training set will make up 80% of the total items in the overall dataset."
   ]
  },
  {
   "cell_type": "code",
   "execution_count": null,
   "metadata": {},
   "outputs": [],
   "source": [
    "# Create train and test sets\n",
    "# Reference: TensorFlow documentation\n",
    "# https://www.tensorflow.org/tutorials/keras/regression#split_the_data_into_train_and_test\n",
    "train = df.sample(frac=0.8, random_state=0)\n",
    "test = df.drop(train.index)\n",
    "\n",
    "print(\"Training:\")\n",
    "print(train.head())\n",
    "print(\"\\nTesting:\")\n",
    "print(test.head())"
   ]
  },
  {
   "cell_type": "markdown",
   "metadata": {},
   "source": [
    "In order to better visualise the training and testing data sets we can plot them both using Matplotlib."
   ]
  },
  {
   "cell_type": "code",
   "execution_count": null,
   "metadata": {},
   "outputs": [],
   "source": [
    "plt.plot(\n",
    "    train.speed,\n",
    "    train.power,\n",
    "    \"o\",\n",
    "    label=\"training\"\n",
    ")\n",
    "\n",
    "plt.plot(\n",
    "    test.speed, \n",
    "    test.power,\n",
    "    \"o\",\n",
    "    label=\"testing\"\n",
    ")\n",
    "\n",
    "plt.xlabel(\"Speed\")\n",
    "plt.ylabel(\"Power\")\n",
    "\n",
    "plt.legend();"
   ]
  },
  {
   "cell_type": "markdown",
   "metadata": {},
   "source": [
    "## Creating a Linear Model"
   ]
  },
  {
   "cell_type": "markdown",
   "metadata": {},
   "source": [
    "Now I'll construct a linear modal and attempt to use it in order to make predictions. This is done below using Keras' `Sequential` class, which represents a linear grouping of layers [2]. The model created below contains a single dense layer. A dense layer is a layer in neural network that’s fully connected, meaning all the neurons in one layer are connected to all other neurons in the next layer [2]."
   ]
  },
  {
   "cell_type": "code",
   "execution_count": null,
   "metadata": {},
   "outputs": [],
   "source": [
    "# Create a neural network with one neuron\n",
    "model = kr.models.Sequential()\n",
    "\n",
    "# Add a single dense layer\n",
    "model.add(\n",
    "    kr.layers.Dense(\n",
    "        1,\n",
    "        input_shape=(1,),\n",
    "        activation=\"linear\",\n",
    "        kernel_initializer=\"ones\",\n",
    "        bias_initializer=\"zeros\"\n",
    "    )\n",
    ")\n",
    "\n",
    "# Compile the model\n",
    "model.compile(\"adam\", loss=\"mean_squared_error\")"
   ]
  },
  {
   "cell_type": "code",
   "execution_count": null,
   "metadata": {
    "scrolled": true
   },
   "outputs": [],
   "source": [
    "# Train the neural network on the training data\n",
    "model.fit(\n",
    "    train.speed,\n",
    "    train.power,\n",
    "    epochs=200,\n",
    "    batch_size=10\n",
    ")"
   ]
  },
  {
   "cell_type": "markdown",
   "metadata": {},
   "source": [
    "### Analysis"
   ]
  },
  {
   "cell_type": "markdown",
   "metadata": {},
   "source": [
    "Now that the training process is complete, the model can be used to make predictions. First I'll visualise the results by plotting the values from the `train` dataset alongside the predicted values of each point in the `test` dataset."
   ]
  },
  {
   "cell_type": "code",
   "execution_count": null,
   "metadata": {
    "scrolled": false
   },
   "outputs": [],
   "source": [
    "# Plot the training dataset\n",
    "plt.plot(\n",
    "    train.speed,\n",
    "    train.power,\n",
    "    \"o\",\n",
    "    label=\"actual\"\n",
    ")\n",
    "\n",
    "# Plot the predictions from the `test` dataset\n",
    "plt.plot(\n",
    "    test.speed, \n",
    "    model.predict(test.speed),\n",
    "    label=\"predictions\"\n",
    ")\n",
    "\n",
    "plt.xlabel(\"Speed\")\n",
    "plt.ylabel(\"Power\")\n",
    "\n",
    "plt.legend();"
   ]
  },
  {
   "cell_type": "markdown",
   "metadata": {},
   "source": [
    "We can also predict individual values using Keras' `model.predict()` function. Below I find the predicted power output if the speed is 20, and then show where the result appears on the plot."
   ]
  },
  {
   "cell_type": "code",
   "execution_count": null,
   "metadata": {
    "scrolled": true
   },
   "outputs": [],
   "source": [
    "# Take a hand-picked speed value and view its predicted power\n",
    "pred_speed = 20.0\n",
    "pred_power = model.predict([pred_speed])[0]\n",
    "\n",
    "pred_power"
   ]
  },
  {
   "cell_type": "code",
   "execution_count": null,
   "metadata": {},
   "outputs": [],
   "source": [
    "def plot_predictions():\n",
    "    # Plot the predictions of the values we trained on\n",
    "    plt.plot(\n",
    "        train.speed,\n",
    "        train.power,\n",
    "        \"o\",\n",
    "        label=\"actual\"\n",
    "    )\n",
    "\n",
    "    plt.plot(\n",
    "        test.speed, \n",
    "        model.predict(test.speed),\n",
    "        label=\"predictions\"\n",
    "    )\n",
    "\n",
    "    plt.xlabel(\"Speed\")\n",
    "    plt.ylabel(\"Power\")\n",
    "\n",
    "    # Show the prediction location on the plot\n",
    "    # Ref: https://www.mathworks.com/matlabcentral/answers/430336-draw-lines-from-both-axis-to-point-in-plot\n",
    "    plt.plot(pred_speed, pred_power, \"ko\")\n",
    "    plt.plot([pred_speed, pred_speed], [0, pred_power], \"k-\")\n",
    "    plt.plot([0, pred_speed], [pred_power, pred_power], \"k-\") \n",
    "\n",
    "    plt.legend();"
   ]
  },
  {
   "cell_type": "code",
   "execution_count": null,
   "metadata": {},
   "outputs": [],
   "source": [
    "plot_predictions()"
   ]
  },
  {
   "cell_type": "markdown",
   "metadata": {},
   "source": [
    "As illustrated above, if we attempt to predict the power when the wind speed is 20, we get a value that is much lower than what we would expect. This is because the data in our dataset is not linear, and therefore linear regression is not the best form of regression to perform if we want to make accurate predictions."
   ]
  },
  {
   "cell_type": "markdown",
   "metadata": {},
   "source": [
    "## Non-Linear Regression"
   ]
  },
  {
   "cell_type": "markdown",
   "metadata": {},
   "source": [
    "Linear regression assumes that the relationship between an independent variable $x$ and a dependent variable $y$ can be best expressed with a line [3]. However, because the `powerproduction` dataset is non-linear, it would make more sense to do polynomial regression. Polynomial regression expresses the relationship between two variables as a polynomial curve [3].\n",
    "\n",
    "Below I'll rebuild the model, this time using the *sigmoid* activation function. An activation function is simply a mathematical function that takes in an input and produces an output [4]. The function is activated when the computed result reaches a specified threshold and the output is then passed onto the neurons on the subsequent layer [4]. The sigmoid activation function is \"S\" shaped and can add non-linearity to the output [4]."
   ]
  },
  {
   "cell_type": "code",
   "execution_count": null,
   "metadata": {},
   "outputs": [],
   "source": [
    "# Re-build the model\n",
    "model = kr.models.Sequential()\n",
    "\n",
    "model.add(\n",
    "    kr.layers.Dense(\n",
    "        64,\n",
    "        input_shape=(1,),\n",
    "        activation=\"sigmoid\",\n",
    "        kernel_initializer=\"glorot_uniform\",\n",
    "        bias_initializer=\"glorot_uniform\"\n",
    "    )\n",
    ")\n",
    "\n",
    "model.add(kr.layers.Dense(1, activation=\"linear\"))\n",
    "\n",
    "model.compile(kr.optimizers.Adam(lr=0.001), loss=\"mean_squared_error\")"
   ]
  },
  {
   "cell_type": "code",
   "execution_count": null,
   "metadata": {
    "scrolled": true
   },
   "outputs": [],
   "source": [
    "# Fit the data\n",
    "model.fit(\n",
    "    train.speed,\n",
    "    train.power,\n",
    "    epochs=300,\n",
    "    batch_size=10\n",
    ")"
   ]
  },
  {
   "cell_type": "markdown",
   "metadata": {},
   "source": [
    "### Analysis"
   ]
  },
  {
   "cell_type": "markdown",
   "metadata": {},
   "source": [
    "Once again, we can use this newly created model to make predictions. As done previously, I'll plot the values of the `train` dataset along with the predicted values of each point in the `test` dataset. Doing so, we'll find the predicted values appear to form a curved line."
   ]
  },
  {
   "cell_type": "code",
   "execution_count": null,
   "metadata": {
    "scrolled": false
   },
   "outputs": [],
   "source": [
    "plt.plot(\n",
    "    train.speed,\n",
    "    train.power,\n",
    "    \"o\",\n",
    "    label=\"actual\"\n",
    ")\n",
    "\n",
    "plt.plot(\n",
    "    test.speed,\n",
    "    model.predict(test.speed),\n",
    "    label=\"prediction\"\n",
    ")\n",
    "\n",
    "plt.xlabel(\"Speed\")\n",
    "plt.ylabel(\"Power\")\n",
    "\n",
    "plt.legend();"
   ]
  },
  {
   "cell_type": "markdown",
   "metadata": {},
   "source": [
    "Again, we can provide an input speed of 20 to Keras' `model.predict()` function and plot the result."
   ]
  },
  {
   "cell_type": "code",
   "execution_count": null,
   "metadata": {},
   "outputs": [],
   "source": [
    "pred_power = model.predict([pred_speed])[0]\n",
    "\n",
    "pred_power"
   ]
  },
  {
   "cell_type": "code",
   "execution_count": null,
   "metadata": {},
   "outputs": [],
   "source": [
    "plot_predictions()"
   ]
  },
  {
   "cell_type": "markdown",
   "metadata": {},
   "source": [
    "We see that the result when using non-linear regression is much more accurate compared to the linear model tested previously."
   ]
  },
  {
   "cell_type": "markdown",
   "metadata": {},
   "source": [
    "## Saving the Model"
   ]
  },
  {
   "cell_type": "markdown",
   "metadata": {},
   "source": [
    "We can use `model.save()` to easily save the model for later use in the web application."
   ]
  },
  {
   "cell_type": "code",
   "execution_count": null,
   "metadata": {},
   "outputs": [],
   "source": [
    "model.save(\"power_prod.h5\")"
   ]
  },
  {
   "cell_type": "markdown",
   "metadata": {},
   "source": [
    "## References"
   ]
  },
  {
   "cell_type": "markdown",
   "metadata": {},
   "source": [
    "1. [Train-Test Split for Evaluating Machine Learning Algorithms](https://machinelearningmastery.com/train-test-split-for-evaluating-machine-learning-algorithms/). Jason Brownlee. Machine Learning Mastery.\n",
    "2. [Linear Regression using Keras and Python](https://heartbeat.fritz.ai/linear-regression-using-keras-and-python-7cee2819a60c). Dhiraj K. Heartbeat.\n",
    "3. [Polynomial Regression using tf.keras](https://medium.com/@anigasan637/polynomial-regression-using-tf-keras-17eaac771256). Ananya Gangavarapu. Medium.\n",
    "4. [Neural Network Activation Function Types](https://medium.com/fintechexplained/neural-network-activation-function-types-a85963035196). Farhad Malik. Medium."
   ]
  }
 ],
 "metadata": {
  "kernelspec": {
   "display_name": "Python 3",
   "language": "python",
   "name": "python3"
  },
  "language_info": {
   "codemirror_mode": {
    "name": "ipython",
    "version": 3
   },
   "file_extension": ".py",
   "mimetype": "text/x-python",
   "name": "python",
   "nbconvert_exporter": "python",
   "pygments_lexer": "ipython3",
   "version": "3.8.3"
  }
 },
 "nbformat": 4,
 "nbformat_minor": 4
}
